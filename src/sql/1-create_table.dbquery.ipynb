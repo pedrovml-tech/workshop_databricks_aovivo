{
 "cells": [
  {
   "cell_type": "code",
   "execution_count": 0,
   "metadata": {
    "application/vnd.databricks.v1+cell": {
     "cellMetadata": {},
     "inputWidgets": {},
     "nuid": "8dd2f53d-3a42-4bd2-ad4e-12da36824a1f",
     "showTitle": false,
     "tableResultSettingsMap": {},
     "title": ""
    }
   },
   "outputs": [],
   "source": [
    "-- Schema público (ERP simulado)\n",
    "CREATE TABLE IF NOT EXISTS customers (\n",
    "    customer_id VARCHAR PRIMARY KEY,\n",
    "    customer_name TEXT,\n",
    "    documento TEXT,\n",
    "    segmento TEXT,\n",
    "    pais TEXT,\n",
    "    estado TEXT,\n",
    "    cidade TEXT,\n",
    "    created_at TIMESTAMPTZ\n",
    ");\n",
    "\n",
    "CREATE TABLE IF NOT EXISTS sales_btc (\n",
    "    transaction_id VARCHAR PRIMARY KEY,\n",
    "    data_hora TIMESTAMPTZ,\n",
    "    ativo TEXT,\n",
    "    quantidade NUMERIC(10,4),\n",
    "    tipo_operacao TEXT,\n",
    "    moeda TEXT,\n",
    "    cliente_id VARCHAR REFERENCES customers(customer_id),\n",
    "    canal TEXT,\n",
    "    mercado TEXT,\n",
    "    arquivo_origem TEXT,\n",
    "    importado_em TIMESTAMPTZ\n",
    ");\n",
    "\n",
    "CREATE TABLE IF NOT EXISTS sales_commodities (\n",
    "    transaction_id VARCHAR PRIMARY KEY,\n",
    "    data_hora TIMESTAMPTZ,\n",
    "    commodity_code TEXT,\n",
    "    quantidade NUMERIC(10,4),\n",
    "    tipo_operacao TEXT,\n",
    "    unidade TEXT,\n",
    "    moeda TEXT,\n",
    "    cliente_id VARCHAR REFERENCES customers(customer_id),\n",
    "    canal TEXT,\n",
    "    mercado TEXT,\n",
    "    arquivo_origem TEXT,\n",
    "    importado_em TIMESTAMPTZ\n",
    ");"
   ]
  }
 ],
 "metadata": {
  "application/vnd.databricks.v1+notebook": {
   "computePreferences": null,
   "dashboards": [],
   "environmentMetadata": null,
   "inputWidgetPreferences": null,
   "language": "sql",
   "notebookMetadata": {
    "pythonIndentUnit": 4,
    "sqlQueryOptions": {
     "applyAutoLimit": true,
     "catalog": "workspace",
     "schema": "default"
    }
   },
   "notebookName": "1-create_table.dbquery.ipynb",
   "widgets": {}
  },
  "language_info": {
   "name": "sql"
  }
 },
 "nbformat": 4,
 "nbformat_minor": 0
}
