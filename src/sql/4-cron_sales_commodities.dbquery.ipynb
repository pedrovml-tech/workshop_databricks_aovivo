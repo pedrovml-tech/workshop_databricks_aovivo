{
 "cells": [
  {
   "cell_type": "code",
   "execution_count": 0,
   "metadata": {
    "application/vnd.databricks.v1+cell": {
     "cellMetadata": {},
     "inputWidgets": {},
     "nuid": "ad0b6a3c-a939-4db3-9311-980d9ca164b9",
     "showTitle": false,
     "tableResultSettingsMap": {},
     "title": ""
    }
   },
   "outputs": [],
   "source": [
    "WITH RECURSIVE\n",
    "params2 AS (\n",
    "  SELECT (5 + floor(random()*5))::int AS n\n",
    "),\n",
    "series2(gs) AS (\n",
    "  SELECT 1\n",
    "  UNION ALL\n",
    "  SELECT gs + 1 FROM series2, params2 WHERE gs < params2.n\n",
    "),\n",
    "choice AS (\n",
    "  SELECT\n",
    "    gs,\n",
    "    (ARRAY['GOLD','OIL','SILVER'])[ceil(random()*3)::int] AS code\n",
    "  FROM series2\n",
    ")\n",
    "INSERT INTO sales_commodities (\n",
    "  transaction_id, data_hora, commodity_code, quantidade, tipo_operacao, unidade, moeda,\n",
    "  cliente_id, canal, mercado, arquivo_origem, importado_em\n",
    ")\n",
    "SELECT\n",
    "  format('COM-%08s', (extract(epoch FROM clock_timestamp())::bigint)*100000 + gs),\n",
    "  now() - (random() * interval '5 minutes'),\n",
    "  code,\n",
    "  (10 + floor(random()*40))::int,\n",
    "  CASE WHEN random() < 0.5 THEN 'COMPRA' ELSE 'VENDA' END,\n",
    "  CASE code WHEN 'OIL' THEN 'bbl' ELSE 'oz' END,\n",
    "  'USD',\n",
    "  (SELECT customer_id FROM customers ORDER BY random() LIMIT 1),\n",
    "  (ARRAY['ONLINE','DISTRIB','RETAIL'])[ceil(random()*3)::int],\n",
    "  (ARRAY['BR','US','EU'])[ceil(random()*3)::int],\n",
    "  'commodities_cron_job',\n",
    "  now()\n",
    "FROM choice;"
   ]
  }
 ],
 "metadata": {
  "application/vnd.databricks.v1+notebook": {
   "computePreferences": null,
   "dashboards": [],
   "environmentMetadata": null,
   "inputWidgetPreferences": null,
   "language": "sql",
   "notebookMetadata": {
    "pythonIndentUnit": 4,
    "sqlQueryOptions": {
     "applyAutoLimit": true,
     "catalog": "workspace",
     "schema": "default"
    }
   },
   "notebookName": "4-cron_sales_commodities.dbquery.ipynb",
   "widgets": {}
  },
  "language_info": {
   "name": "sql"
  }
 },
 "nbformat": 4,
 "nbformat_minor": 0
}
