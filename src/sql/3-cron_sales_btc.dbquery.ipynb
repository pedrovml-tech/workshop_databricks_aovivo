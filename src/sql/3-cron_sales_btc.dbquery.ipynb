{
 "cells": [
  {
   "cell_type": "code",
   "execution_count": 0,
   "metadata": {
    "application/vnd.databricks.v1+cell": {
     "cellMetadata": {},
     "inputWidgets": {},
     "nuid": "8ed4c6a2-eb18-4387-a559-8583a6656219",
     "showTitle": false,
     "tableResultSettingsMap": {},
     "title": ""
    }
   },
   "outputs": [],
   "source": [
    "WITH RECURSIVE\n",
    "params AS (\n",
    "  SELECT (5 + floor(random()*5))::int AS n\n",
    "),\n",
    "series(gs) AS (\n",
    "  SELECT 1\n",
    "  UNION ALL\n",
    "  SELECT gs + 1 FROM series, params WHERE gs < params.n\n",
    ")\n",
    "INSERT INTO sales_btc (\n",
    "  transaction_id, data_hora, ativo, quantidade, tipo_operacao, moeda,\n",
    "  cliente_id, canal, mercado, arquivo_origem, importado_em\n",
    ")\n",
    "SELECT\n",
    "  format('BTCX-%08s', (extract(epoch FROM clock_timestamp())::bigint)*100000 + gs),\n",
    "  now() - (random() * interval '5 minutes'),\n",
    "  'BTC',\n",
    "  round((0.01 + random()*0.49)::numeric, 2),\n",
    "  CASE WHEN random() < 0.5 THEN 'COMPRA' ELSE 'VENDA' END,\n",
    "  'USD',\n",
    "  (SELECT customer_id FROM customers ORDER BY random() LIMIT 1),\n",
    "  (ARRAY['ONLINE','DISTRIB','RETAIL'])[ceil(random()*3)::int],\n",
    "  (ARRAY['BR','US','EU'])[ceil(random()*3)::int],\n",
    "  'btc_cron_job',\n",
    "  now()\n",
    "FROM series;"
   ]
  }
 ],
 "metadata": {
  "application/vnd.databricks.v1+notebook": {
   "computePreferences": null,
   "dashboards": [],
   "environmentMetadata": null,
   "inputWidgetPreferences": null,
   "language": "sql",
   "notebookMetadata": {
    "sqlQueryOptions": {
     "applyAutoLimit": true,
     "catalog": "workspace",
     "schema": "default"
    }
   },
   "notebookName": "3-cron_sales_btc.dbquery.ipynb",
   "widgets": {}
  },
  "language_info": {
   "name": "sql"
  }
 },
 "nbformat": 4,
 "nbformat_minor": 0
}
